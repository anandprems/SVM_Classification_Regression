{
  "nbformat": 4,
  "nbformat_minor": 0,
  "metadata": {
    "colab": {
      "name": "13_svm_classification.ipynb",
      "provenance": []
    },
    "kernelspec": {
      "name": "python3",
      "display_name": "Python 3"
    }
  },
  "cells": [
    {
      "cell_type": "markdown",
      "metadata": {
        "id": "ZjqkYMKYrMGm"
      },
      "source": [
        "**Importing libraries**"
      ]
    },
    {
      "cell_type": "code",
      "metadata": {
        "id": "_BPiOt5WrEiD"
      },
      "source": [
        "import numpy as np\n",
        "import pandas as pd\n",
        "import matplotlib.pyplot as plt\n",
        "import seaborn as sns\n",
        "%matplotlib inline"
      ],
      "execution_count": 31,
      "outputs": []
    },
    {
      "cell_type": "markdown",
      "metadata": {
        "id": "XCIxG9YsryoQ"
      },
      "source": [
        "**Importing dataset**"
      ]
    },
    {
      "cell_type": "code",
      "metadata": {
        "id": "gHqzCrYUr2gC"
      },
      "source": [
        "dataset = pd.read_csv('parkinsons_new.csv')"
      ],
      "execution_count": 32,
      "outputs": []
    },
    {
      "cell_type": "markdown",
      "metadata": {
        "id": "_bsixoQ-s52K"
      },
      "source": [
        "**Pre-Processing & EDA**"
      ]
    },
    {
      "cell_type": "code",
      "metadata": {
        "id": "002Hj8awsHHV",
        "outputId": "fe8c6e7b-04e3-4e8b-e6e7-c04eb9094e20",
        "colab": {
          "base_uri": "https://localhost:8080/",
          "height": 215
        }
      },
      "source": [
        "dataset.head()"
      ],
      "execution_count": 33,
      "outputs": [
        {
          "output_type": "execute_result",
          "data": {
            "text/html": [
              "<div>\n",
              "<style scoped>\n",
              "    .dataframe tbody tr th:only-of-type {\n",
              "        vertical-align: middle;\n",
              "    }\n",
              "\n",
              "    .dataframe tbody tr th {\n",
              "        vertical-align: top;\n",
              "    }\n",
              "\n",
              "    .dataframe thead th {\n",
              "        text-align: right;\n",
              "    }\n",
              "</style>\n",
              "<table border=\"1\" class=\"dataframe\">\n",
              "  <thead>\n",
              "    <tr style=\"text-align: right;\">\n",
              "      <th></th>\n",
              "      <th>name</th>\n",
              "      <th>age</th>\n",
              "      <th>sex</th>\n",
              "      <th>MDVP:Fo(Hz)</th>\n",
              "      <th>MDVP:Fhi(Hz)</th>\n",
              "      <th>MDVP:Flo(Hz)</th>\n",
              "      <th>MDVP:Jitter(%)</th>\n",
              "      <th>MDVP:Jitter(Abs)</th>\n",
              "      <th>MDVP:RAP</th>\n",
              "      <th>MDVP:PPQ</th>\n",
              "      <th>Jitter:DDP</th>\n",
              "      <th>MDVP:Shimmer</th>\n",
              "      <th>MDVP:Shimmer(dB)</th>\n",
              "      <th>Shimmer:APQ3</th>\n",
              "      <th>Shimmer:APQ5</th>\n",
              "      <th>MDVP:APQ</th>\n",
              "      <th>Shimmer:DDA</th>\n",
              "      <th>NHR</th>\n",
              "      <th>HNR</th>\n",
              "      <th>status</th>\n",
              "    </tr>\n",
              "  </thead>\n",
              "  <tbody>\n",
              "    <tr>\n",
              "      <th>0</th>\n",
              "      <td>phon_R01_S01_1</td>\n",
              "      <td>50</td>\n",
              "      <td>M</td>\n",
              "      <td>119.992</td>\n",
              "      <td>157.302</td>\n",
              "      <td>74.997</td>\n",
              "      <td>0.00784</td>\n",
              "      <td>0.00007</td>\n",
              "      <td>0.00370</td>\n",
              "      <td>0.00554</td>\n",
              "      <td>0.01109</td>\n",
              "      <td>0.04374</td>\n",
              "      <td>0.426</td>\n",
              "      <td>0.02182</td>\n",
              "      <td>0.03130</td>\n",
              "      <td>0.02971</td>\n",
              "      <td>0.06545</td>\n",
              "      <td>0.02211</td>\n",
              "      <td>21.033</td>\n",
              "      <td>1</td>\n",
              "    </tr>\n",
              "    <tr>\n",
              "      <th>1</th>\n",
              "      <td>phon_R01_S01_2</td>\n",
              "      <td>52</td>\n",
              "      <td>F</td>\n",
              "      <td>122.400</td>\n",
              "      <td>148.650</td>\n",
              "      <td>113.819</td>\n",
              "      <td>0.00968</td>\n",
              "      <td>0.00008</td>\n",
              "      <td>0.00465</td>\n",
              "      <td>0.00696</td>\n",
              "      <td>0.01394</td>\n",
              "      <td>0.06134</td>\n",
              "      <td>0.626</td>\n",
              "      <td>0.03134</td>\n",
              "      <td>0.04518</td>\n",
              "      <td>0.04368</td>\n",
              "      <td>0.09403</td>\n",
              "      <td>0.01929</td>\n",
              "      <td>19.085</td>\n",
              "      <td>1</td>\n",
              "    </tr>\n",
              "    <tr>\n",
              "      <th>2</th>\n",
              "      <td>phon_R01_S01_3</td>\n",
              "      <td>54</td>\n",
              "      <td>M</td>\n",
              "      <td>116.682</td>\n",
              "      <td>131.111</td>\n",
              "      <td>111.555</td>\n",
              "      <td>0.01050</td>\n",
              "      <td>0.00009</td>\n",
              "      <td>0.00544</td>\n",
              "      <td>0.00781</td>\n",
              "      <td>0.01633</td>\n",
              "      <td>0.05233</td>\n",
              "      <td>0.482</td>\n",
              "      <td>0.02757</td>\n",
              "      <td>0.03858</td>\n",
              "      <td>0.03590</td>\n",
              "      <td>0.08270</td>\n",
              "      <td>0.01309</td>\n",
              "      <td>20.651</td>\n",
              "      <td>1</td>\n",
              "    </tr>\n",
              "    <tr>\n",
              "      <th>3</th>\n",
              "      <td>phon_R01_S01_4</td>\n",
              "      <td>57</td>\n",
              "      <td>F</td>\n",
              "      <td>116.676</td>\n",
              "      <td>137.871</td>\n",
              "      <td>111.366</td>\n",
              "      <td>0.00997</td>\n",
              "      <td>0.00009</td>\n",
              "      <td>0.00502</td>\n",
              "      <td>0.00698</td>\n",
              "      <td>0.01505</td>\n",
              "      <td>0.05492</td>\n",
              "      <td>0.517</td>\n",
              "      <td>0.02924</td>\n",
              "      <td>0.04005</td>\n",
              "      <td>0.03772</td>\n",
              "      <td>0.08771</td>\n",
              "      <td>0.01353</td>\n",
              "      <td>20.644</td>\n",
              "      <td>1</td>\n",
              "    </tr>\n",
              "    <tr>\n",
              "      <th>4</th>\n",
              "      <td>phon_R01_S01_5</td>\n",
              "      <td>59</td>\n",
              "      <td>M</td>\n",
              "      <td>116.014</td>\n",
              "      <td>141.781</td>\n",
              "      <td>110.655</td>\n",
              "      <td>0.01284</td>\n",
              "      <td>0.00011</td>\n",
              "      <td>0.00655</td>\n",
              "      <td>0.00908</td>\n",
              "      <td>0.01966</td>\n",
              "      <td>0.06425</td>\n",
              "      <td>0.584</td>\n",
              "      <td>0.03490</td>\n",
              "      <td>0.04825</td>\n",
              "      <td>0.04465</td>\n",
              "      <td>0.10470</td>\n",
              "      <td>0.01767</td>\n",
              "      <td>19.649</td>\n",
              "      <td>1</td>\n",
              "    </tr>\n",
              "  </tbody>\n",
              "</table>\n",
              "</div>"
            ],
            "text/plain": [
              "             name  age sex  MDVP:Fo(Hz)  ...  Shimmer:DDA      NHR     HNR  status\n",
              "0  phon_R01_S01_1   50   M      119.992  ...      0.06545  0.02211  21.033       1\n",
              "1  phon_R01_S01_2   52   F      122.400  ...      0.09403  0.01929  19.085       1\n",
              "2  phon_R01_S01_3   54   M      116.682  ...      0.08270  0.01309  20.651       1\n",
              "3  phon_R01_S01_4   57   F      116.676  ...      0.08771  0.01353  20.644       1\n",
              "4  phon_R01_S01_5   59   M      116.014  ...      0.10470  0.01767  19.649       1\n",
              "\n",
              "[5 rows x 20 columns]"
            ]
          },
          "metadata": {
            "tags": []
          },
          "execution_count": 33
        }
      ]
    },
    {
      "cell_type": "code",
      "metadata": {
        "id": "4qMxGuV4s-o8",
        "outputId": "f85b7a15-e2ba-4300-9eb5-50b53faaf909",
        "colab": {
          "base_uri": "https://localhost:8080/",
          "height": 215
        }
      },
      "source": [
        "dataset.tail()"
      ],
      "execution_count": 34,
      "outputs": [
        {
          "output_type": "execute_result",
          "data": {
            "text/html": [
              "<div>\n",
              "<style scoped>\n",
              "    .dataframe tbody tr th:only-of-type {\n",
              "        vertical-align: middle;\n",
              "    }\n",
              "\n",
              "    .dataframe tbody tr th {\n",
              "        vertical-align: top;\n",
              "    }\n",
              "\n",
              "    .dataframe thead th {\n",
              "        text-align: right;\n",
              "    }\n",
              "</style>\n",
              "<table border=\"1\" class=\"dataframe\">\n",
              "  <thead>\n",
              "    <tr style=\"text-align: right;\">\n",
              "      <th></th>\n",
              "      <th>name</th>\n",
              "      <th>age</th>\n",
              "      <th>sex</th>\n",
              "      <th>MDVP:Fo(Hz)</th>\n",
              "      <th>MDVP:Fhi(Hz)</th>\n",
              "      <th>MDVP:Flo(Hz)</th>\n",
              "      <th>MDVP:Jitter(%)</th>\n",
              "      <th>MDVP:Jitter(Abs)</th>\n",
              "      <th>MDVP:RAP</th>\n",
              "      <th>MDVP:PPQ</th>\n",
              "      <th>Jitter:DDP</th>\n",
              "      <th>MDVP:Shimmer</th>\n",
              "      <th>MDVP:Shimmer(dB)</th>\n",
              "      <th>Shimmer:APQ3</th>\n",
              "      <th>Shimmer:APQ5</th>\n",
              "      <th>MDVP:APQ</th>\n",
              "      <th>Shimmer:DDA</th>\n",
              "      <th>NHR</th>\n",
              "      <th>HNR</th>\n",
              "      <th>status</th>\n",
              "    </tr>\n",
              "  </thead>\n",
              "  <tbody>\n",
              "    <tr>\n",
              "      <th>190</th>\n",
              "      <td>phon_R01_S50_2</td>\n",
              "      <td>74</td>\n",
              "      <td>F</td>\n",
              "      <td>174.188</td>\n",
              "      <td>230.978</td>\n",
              "      <td>94.261</td>\n",
              "      <td>0.00459</td>\n",
              "      <td>0.00003</td>\n",
              "      <td>0.00263</td>\n",
              "      <td>0.00259</td>\n",
              "      <td>0.00790</td>\n",
              "      <td>0.04087</td>\n",
              "      <td>0.405</td>\n",
              "      <td>0.02336</td>\n",
              "      <td>0.02498</td>\n",
              "      <td>0.02745</td>\n",
              "      <td>0.07008</td>\n",
              "      <td>0.02764</td>\n",
              "      <td>19.517</td>\n",
              "      <td>0</td>\n",
              "    </tr>\n",
              "    <tr>\n",
              "      <th>191</th>\n",
              "      <td>phon_R01_S50_3</td>\n",
              "      <td>52</td>\n",
              "      <td>F</td>\n",
              "      <td>209.516</td>\n",
              "      <td>253.017</td>\n",
              "      <td>89.488</td>\n",
              "      <td>0.00564</td>\n",
              "      <td>0.00003</td>\n",
              "      <td>0.00331</td>\n",
              "      <td>0.00292</td>\n",
              "      <td>0.00994</td>\n",
              "      <td>0.02751</td>\n",
              "      <td>0.263</td>\n",
              "      <td>0.01604</td>\n",
              "      <td>0.01657</td>\n",
              "      <td>0.01879</td>\n",
              "      <td>0.04812</td>\n",
              "      <td>0.01810</td>\n",
              "      <td>19.147</td>\n",
              "      <td>0</td>\n",
              "    </tr>\n",
              "    <tr>\n",
              "      <th>192</th>\n",
              "      <td>phon_R01_S50_4</td>\n",
              "      <td>62</td>\n",
              "      <td>F</td>\n",
              "      <td>174.688</td>\n",
              "      <td>240.005</td>\n",
              "      <td>74.287</td>\n",
              "      <td>0.01360</td>\n",
              "      <td>0.00008</td>\n",
              "      <td>0.00624</td>\n",
              "      <td>0.00564</td>\n",
              "      <td>0.01873</td>\n",
              "      <td>0.02308</td>\n",
              "      <td>0.256</td>\n",
              "      <td>0.01268</td>\n",
              "      <td>0.01365</td>\n",
              "      <td>0.01667</td>\n",
              "      <td>0.03804</td>\n",
              "      <td>0.10715</td>\n",
              "      <td>17.883</td>\n",
              "      <td>0</td>\n",
              "    </tr>\n",
              "    <tr>\n",
              "      <th>193</th>\n",
              "      <td>phon_R01_S50_5</td>\n",
              "      <td>78</td>\n",
              "      <td>F</td>\n",
              "      <td>198.764</td>\n",
              "      <td>396.961</td>\n",
              "      <td>74.904</td>\n",
              "      <td>0.00740</td>\n",
              "      <td>0.00004</td>\n",
              "      <td>0.00370</td>\n",
              "      <td>0.00390</td>\n",
              "      <td>0.01109</td>\n",
              "      <td>0.02296</td>\n",
              "      <td>0.241</td>\n",
              "      <td>0.01265</td>\n",
              "      <td>0.01321</td>\n",
              "      <td>0.01588</td>\n",
              "      <td>0.03794</td>\n",
              "      <td>0.07223</td>\n",
              "      <td>19.020</td>\n",
              "      <td>0</td>\n",
              "    </tr>\n",
              "    <tr>\n",
              "      <th>194</th>\n",
              "      <td>phon_R01_S50_6</td>\n",
              "      <td>69</td>\n",
              "      <td>F</td>\n",
              "      <td>214.289</td>\n",
              "      <td>260.277</td>\n",
              "      <td>77.973</td>\n",
              "      <td>0.00567</td>\n",
              "      <td>0.00003</td>\n",
              "      <td>0.00295</td>\n",
              "      <td>0.00317</td>\n",
              "      <td>0.00885</td>\n",
              "      <td>0.01884</td>\n",
              "      <td>0.190</td>\n",
              "      <td>0.01026</td>\n",
              "      <td>0.01161</td>\n",
              "      <td>0.01373</td>\n",
              "      <td>0.03078</td>\n",
              "      <td>0.04398</td>\n",
              "      <td>21.209</td>\n",
              "      <td>0</td>\n",
              "    </tr>\n",
              "  </tbody>\n",
              "</table>\n",
              "</div>"
            ],
            "text/plain": [
              "               name  age sex  MDVP:Fo(Hz)  ...  Shimmer:DDA      NHR     HNR  status\n",
              "190  phon_R01_S50_2   74   F      174.188  ...      0.07008  0.02764  19.517       0\n",
              "191  phon_R01_S50_3   52   F      209.516  ...      0.04812  0.01810  19.147       0\n",
              "192  phon_R01_S50_4   62   F      174.688  ...      0.03804  0.10715  17.883       0\n",
              "193  phon_R01_S50_5   78   F      198.764  ...      0.03794  0.07223  19.020       0\n",
              "194  phon_R01_S50_6   69   F      214.289  ...      0.03078  0.04398  21.209       0\n",
              "\n",
              "[5 rows x 20 columns]"
            ]
          },
          "metadata": {
            "tags": []
          },
          "execution_count": 34
        }
      ]
    },
    {
      "cell_type": "code",
      "metadata": {
        "id": "dogAWnKLtHUC",
        "outputId": "4c7d7f21-5eea-4c0c-dc34-4f87cd4ba4eb",
        "colab": {
          "base_uri": "https://localhost:8080/"
        }
      },
      "source": [
        "dataset.shape"
      ],
      "execution_count": 35,
      "outputs": [
        {
          "output_type": "execute_result",
          "data": {
            "text/plain": [
              "(195, 20)"
            ]
          },
          "metadata": {
            "tags": []
          },
          "execution_count": 35
        }
      ]
    },
    {
      "cell_type": "code",
      "metadata": {
        "id": "LQSqsdBltOx-",
        "outputId": "5c8c68a4-4800-4c90-b667-9b4fe3061c1c",
        "colab": {
          "base_uri": "https://localhost:8080/"
        }
      },
      "source": [
        "dataset.columns"
      ],
      "execution_count": 36,
      "outputs": [
        {
          "output_type": "execute_result",
          "data": {
            "text/plain": [
              "Index(['name', 'age', 'sex', 'MDVP:Fo(Hz)', 'MDVP:Fhi(Hz)', 'MDVP:Flo(Hz)',\n",
              "       'MDVP:Jitter(%)', 'MDVP:Jitter(Abs)', 'MDVP:RAP', 'MDVP:PPQ',\n",
              "       'Jitter:DDP', 'MDVP:Shimmer', 'MDVP:Shimmer(dB)', 'Shimmer:APQ3',\n",
              "       'Shimmer:APQ5', 'MDVP:APQ', 'Shimmer:DDA', 'NHR', 'HNR', 'status'],\n",
              "      dtype='object')"
            ]
          },
          "metadata": {
            "tags": []
          },
          "execution_count": 36
        }
      ]
    },
    {
      "cell_type": "code",
      "metadata": {
        "id": "18MTNxi9tR8q",
        "outputId": "a8cc110c-5bc1-4bdf-cd58-af15c57dd010",
        "colab": {
          "base_uri": "https://localhost:8080/"
        }
      },
      "source": [
        "dataset.info()"
      ],
      "execution_count": 37,
      "outputs": [
        {
          "output_type": "stream",
          "text": [
            "<class 'pandas.core.frame.DataFrame'>\n",
            "RangeIndex: 195 entries, 0 to 194\n",
            "Data columns (total 20 columns):\n",
            " #   Column            Non-Null Count  Dtype  \n",
            "---  ------            --------------  -----  \n",
            " 0   name              195 non-null    object \n",
            " 1   age               195 non-null    int64  \n",
            " 2   sex               195 non-null    object \n",
            " 3   MDVP:Fo(Hz)       195 non-null    float64\n",
            " 4   MDVP:Fhi(Hz)      195 non-null    float64\n",
            " 5   MDVP:Flo(Hz)      195 non-null    float64\n",
            " 6   MDVP:Jitter(%)    195 non-null    float64\n",
            " 7   MDVP:Jitter(Abs)  195 non-null    float64\n",
            " 8   MDVP:RAP          195 non-null    float64\n",
            " 9   MDVP:PPQ          195 non-null    float64\n",
            " 10  Jitter:DDP        195 non-null    float64\n",
            " 11  MDVP:Shimmer      195 non-null    float64\n",
            " 12  MDVP:Shimmer(dB)  195 non-null    float64\n",
            " 13  Shimmer:APQ3      195 non-null    float64\n",
            " 14  Shimmer:APQ5      195 non-null    float64\n",
            " 15  MDVP:APQ          195 non-null    float64\n",
            " 16  Shimmer:DDA       195 non-null    float64\n",
            " 17  NHR               195 non-null    float64\n",
            " 18  HNR               195 non-null    float64\n",
            " 19  status            195 non-null    int64  \n",
            "dtypes: float64(16), int64(2), object(2)\n",
            "memory usage: 30.6+ KB\n"
          ],
          "name": "stdout"
        }
      ]
    },
    {
      "cell_type": "code",
      "metadata": {
        "id": "C2qKX8BGtZqT",
        "outputId": "fceb3ec7-bf8d-4334-98a4-ae503b732c29",
        "colab": {
          "base_uri": "https://localhost:8080/",
          "height": 304
        }
      },
      "source": [
        "dataset.describe()"
      ],
      "execution_count": 38,
      "outputs": [
        {
          "output_type": "execute_result",
          "data": {
            "text/html": [
              "<div>\n",
              "<style scoped>\n",
              "    .dataframe tbody tr th:only-of-type {\n",
              "        vertical-align: middle;\n",
              "    }\n",
              "\n",
              "    .dataframe tbody tr th {\n",
              "        vertical-align: top;\n",
              "    }\n",
              "\n",
              "    .dataframe thead th {\n",
              "        text-align: right;\n",
              "    }\n",
              "</style>\n",
              "<table border=\"1\" class=\"dataframe\">\n",
              "  <thead>\n",
              "    <tr style=\"text-align: right;\">\n",
              "      <th></th>\n",
              "      <th>age</th>\n",
              "      <th>MDVP:Fo(Hz)</th>\n",
              "      <th>MDVP:Fhi(Hz)</th>\n",
              "      <th>MDVP:Flo(Hz)</th>\n",
              "      <th>MDVP:Jitter(%)</th>\n",
              "      <th>MDVP:Jitter(Abs)</th>\n",
              "      <th>MDVP:RAP</th>\n",
              "      <th>MDVP:PPQ</th>\n",
              "      <th>Jitter:DDP</th>\n",
              "      <th>MDVP:Shimmer</th>\n",
              "      <th>MDVP:Shimmer(dB)</th>\n",
              "      <th>Shimmer:APQ3</th>\n",
              "      <th>Shimmer:APQ5</th>\n",
              "      <th>MDVP:APQ</th>\n",
              "      <th>Shimmer:DDA</th>\n",
              "      <th>NHR</th>\n",
              "      <th>HNR</th>\n",
              "      <th>status</th>\n",
              "    </tr>\n",
              "  </thead>\n",
              "  <tbody>\n",
              "    <tr>\n",
              "      <th>count</th>\n",
              "      <td>195.000000</td>\n",
              "      <td>195.000000</td>\n",
              "      <td>195.000000</td>\n",
              "      <td>195.000000</td>\n",
              "      <td>195.000000</td>\n",
              "      <td>195.000000</td>\n",
              "      <td>195.000000</td>\n",
              "      <td>195.000000</td>\n",
              "      <td>195.000000</td>\n",
              "      <td>195.000000</td>\n",
              "      <td>195.000000</td>\n",
              "      <td>195.000000</td>\n",
              "      <td>195.000000</td>\n",
              "      <td>195.000000</td>\n",
              "      <td>195.000000</td>\n",
              "      <td>195.000000</td>\n",
              "      <td>195.000000</td>\n",
              "      <td>195.000000</td>\n",
              "    </tr>\n",
              "    <tr>\n",
              "      <th>mean</th>\n",
              "      <td>64.374359</td>\n",
              "      <td>154.228641</td>\n",
              "      <td>197.104918</td>\n",
              "      <td>116.324631</td>\n",
              "      <td>0.006220</td>\n",
              "      <td>0.000044</td>\n",
              "      <td>0.003306</td>\n",
              "      <td>0.003446</td>\n",
              "      <td>0.009920</td>\n",
              "      <td>0.029709</td>\n",
              "      <td>0.282251</td>\n",
              "      <td>0.015664</td>\n",
              "      <td>0.017878</td>\n",
              "      <td>0.024081</td>\n",
              "      <td>0.046993</td>\n",
              "      <td>0.024847</td>\n",
              "      <td>21.885974</td>\n",
              "      <td>0.753846</td>\n",
              "    </tr>\n",
              "    <tr>\n",
              "      <th>std</th>\n",
              "      <td>9.095051</td>\n",
              "      <td>41.390065</td>\n",
              "      <td>91.491548</td>\n",
              "      <td>43.521413</td>\n",
              "      <td>0.004848</td>\n",
              "      <td>0.000035</td>\n",
              "      <td>0.002968</td>\n",
              "      <td>0.002759</td>\n",
              "      <td>0.008903</td>\n",
              "      <td>0.018857</td>\n",
              "      <td>0.194877</td>\n",
              "      <td>0.010153</td>\n",
              "      <td>0.012024</td>\n",
              "      <td>0.016947</td>\n",
              "      <td>0.030459</td>\n",
              "      <td>0.040418</td>\n",
              "      <td>4.425764</td>\n",
              "      <td>0.431878</td>\n",
              "    </tr>\n",
              "    <tr>\n",
              "      <th>min</th>\n",
              "      <td>50.000000</td>\n",
              "      <td>88.333000</td>\n",
              "      <td>102.145000</td>\n",
              "      <td>65.476000</td>\n",
              "      <td>0.001680</td>\n",
              "      <td>0.000007</td>\n",
              "      <td>0.000680</td>\n",
              "      <td>0.000920</td>\n",
              "      <td>0.002040</td>\n",
              "      <td>0.009540</td>\n",
              "      <td>0.085000</td>\n",
              "      <td>0.004550</td>\n",
              "      <td>0.005700</td>\n",
              "      <td>0.007190</td>\n",
              "      <td>0.013640</td>\n",
              "      <td>0.000650</td>\n",
              "      <td>8.441000</td>\n",
              "      <td>0.000000</td>\n",
              "    </tr>\n",
              "    <tr>\n",
              "      <th>25%</th>\n",
              "      <td>57.000000</td>\n",
              "      <td>117.572000</td>\n",
              "      <td>134.862500</td>\n",
              "      <td>84.291000</td>\n",
              "      <td>0.003460</td>\n",
              "      <td>0.000020</td>\n",
              "      <td>0.001660</td>\n",
              "      <td>0.001860</td>\n",
              "      <td>0.004985</td>\n",
              "      <td>0.016505</td>\n",
              "      <td>0.148500</td>\n",
              "      <td>0.008245</td>\n",
              "      <td>0.009580</td>\n",
              "      <td>0.013080</td>\n",
              "      <td>0.024735</td>\n",
              "      <td>0.005925</td>\n",
              "      <td>19.198000</td>\n",
              "      <td>1.000000</td>\n",
              "    </tr>\n",
              "    <tr>\n",
              "      <th>50%</th>\n",
              "      <td>63.000000</td>\n",
              "      <td>148.790000</td>\n",
              "      <td>175.829000</td>\n",
              "      <td>104.315000</td>\n",
              "      <td>0.004940</td>\n",
              "      <td>0.000030</td>\n",
              "      <td>0.002500</td>\n",
              "      <td>0.002690</td>\n",
              "      <td>0.007490</td>\n",
              "      <td>0.022970</td>\n",
              "      <td>0.221000</td>\n",
              "      <td>0.012790</td>\n",
              "      <td>0.013470</td>\n",
              "      <td>0.018260</td>\n",
              "      <td>0.038360</td>\n",
              "      <td>0.011660</td>\n",
              "      <td>22.085000</td>\n",
              "      <td>1.000000</td>\n",
              "    </tr>\n",
              "    <tr>\n",
              "      <th>75%</th>\n",
              "      <td>72.000000</td>\n",
              "      <td>182.769000</td>\n",
              "      <td>224.205500</td>\n",
              "      <td>140.018500</td>\n",
              "      <td>0.007365</td>\n",
              "      <td>0.000060</td>\n",
              "      <td>0.003835</td>\n",
              "      <td>0.003955</td>\n",
              "      <td>0.011505</td>\n",
              "      <td>0.037885</td>\n",
              "      <td>0.350000</td>\n",
              "      <td>0.020265</td>\n",
              "      <td>0.022380</td>\n",
              "      <td>0.029400</td>\n",
              "      <td>0.060795</td>\n",
              "      <td>0.025640</td>\n",
              "      <td>25.075500</td>\n",
              "      <td>1.000000</td>\n",
              "    </tr>\n",
              "    <tr>\n",
              "      <th>max</th>\n",
              "      <td>79.000000</td>\n",
              "      <td>260.105000</td>\n",
              "      <td>592.030000</td>\n",
              "      <td>239.170000</td>\n",
              "      <td>0.033160</td>\n",
              "      <td>0.000260</td>\n",
              "      <td>0.021440</td>\n",
              "      <td>0.019580</td>\n",
              "      <td>0.064330</td>\n",
              "      <td>0.119080</td>\n",
              "      <td>1.302000</td>\n",
              "      <td>0.056470</td>\n",
              "      <td>0.079400</td>\n",
              "      <td>0.137780</td>\n",
              "      <td>0.169420</td>\n",
              "      <td>0.314820</td>\n",
              "      <td>33.047000</td>\n",
              "      <td>1.000000</td>\n",
              "    </tr>\n",
              "  </tbody>\n",
              "</table>\n",
              "</div>"
            ],
            "text/plain": [
              "              age  MDVP:Fo(Hz)  ...         HNR      status\n",
              "count  195.000000   195.000000  ...  195.000000  195.000000\n",
              "mean    64.374359   154.228641  ...   21.885974    0.753846\n",
              "std      9.095051    41.390065  ...    4.425764    0.431878\n",
              "min     50.000000    88.333000  ...    8.441000    0.000000\n",
              "25%     57.000000   117.572000  ...   19.198000    1.000000\n",
              "50%     63.000000   148.790000  ...   22.085000    1.000000\n",
              "75%     72.000000   182.769000  ...   25.075500    1.000000\n",
              "max     79.000000   260.105000  ...   33.047000    1.000000\n",
              "\n",
              "[8 rows x 18 columns]"
            ]
          },
          "metadata": {
            "tags": []
          },
          "execution_count": 38
        }
      ]
    },
    {
      "cell_type": "code",
      "metadata": {
        "id": "iyQPdX4ptqbt",
        "outputId": "fe6b2916-b70f-4aa4-c313-668587e74de8",
        "colab": {
          "base_uri": "https://localhost:8080/"
        }
      },
      "source": [
        "pd.isnull(dataset).sum()"
      ],
      "execution_count": 39,
      "outputs": [
        {
          "output_type": "execute_result",
          "data": {
            "text/plain": [
              "name                0\n",
              "age                 0\n",
              "sex                 0\n",
              "MDVP:Fo(Hz)         0\n",
              "MDVP:Fhi(Hz)        0\n",
              "MDVP:Flo(Hz)        0\n",
              "MDVP:Jitter(%)      0\n",
              "MDVP:Jitter(Abs)    0\n",
              "MDVP:RAP            0\n",
              "MDVP:PPQ            0\n",
              "Jitter:DDP          0\n",
              "MDVP:Shimmer        0\n",
              "MDVP:Shimmer(dB)    0\n",
              "Shimmer:APQ3        0\n",
              "Shimmer:APQ5        0\n",
              "MDVP:APQ            0\n",
              "Shimmer:DDA         0\n",
              "NHR                 0\n",
              "HNR                 0\n",
              "status              0\n",
              "dtype: int64"
            ]
          },
          "metadata": {
            "tags": []
          },
          "execution_count": 39
        }
      ]
    },
    {
      "cell_type": "code",
      "metadata": {
        "id": "EBzHZavxIt9x"
      },
      "source": [
        "#droping a particular column, axis =1\n",
        "dataset = dataset.drop(['name'], axis=1)"
      ],
      "execution_count": 40,
      "outputs": []
    },
    {
      "cell_type": "code",
      "metadata": {
        "id": "TDrCYaaXJXXc"
      },
      "source": [
        "dataset = pd.get_dummies(dataset, prefix_sep='sex')"
      ],
      "execution_count": 41,
      "outputs": []
    },
    {
      "cell_type": "code",
      "metadata": {
        "id": "EN0UMRhHMCE1",
        "outputId": "9f486697-dbf0-409e-c10e-718473191c42",
        "colab": {
          "base_uri": "https://localhost:8080/",
          "height": 215
        }
      },
      "source": [
        "dataset.head()"
      ],
      "execution_count": 42,
      "outputs": [
        {
          "output_type": "execute_result",
          "data": {
            "text/html": [
              "<div>\n",
              "<style scoped>\n",
              "    .dataframe tbody tr th:only-of-type {\n",
              "        vertical-align: middle;\n",
              "    }\n",
              "\n",
              "    .dataframe tbody tr th {\n",
              "        vertical-align: top;\n",
              "    }\n",
              "\n",
              "    .dataframe thead th {\n",
              "        text-align: right;\n",
              "    }\n",
              "</style>\n",
              "<table border=\"1\" class=\"dataframe\">\n",
              "  <thead>\n",
              "    <tr style=\"text-align: right;\">\n",
              "      <th></th>\n",
              "      <th>age</th>\n",
              "      <th>MDVP:Fo(Hz)</th>\n",
              "      <th>MDVP:Fhi(Hz)</th>\n",
              "      <th>MDVP:Flo(Hz)</th>\n",
              "      <th>MDVP:Jitter(%)</th>\n",
              "      <th>MDVP:Jitter(Abs)</th>\n",
              "      <th>MDVP:RAP</th>\n",
              "      <th>MDVP:PPQ</th>\n",
              "      <th>Jitter:DDP</th>\n",
              "      <th>MDVP:Shimmer</th>\n",
              "      <th>MDVP:Shimmer(dB)</th>\n",
              "      <th>Shimmer:APQ3</th>\n",
              "      <th>Shimmer:APQ5</th>\n",
              "      <th>MDVP:APQ</th>\n",
              "      <th>Shimmer:DDA</th>\n",
              "      <th>NHR</th>\n",
              "      <th>HNR</th>\n",
              "      <th>status</th>\n",
              "      <th>sexsexF</th>\n",
              "      <th>sexsexM</th>\n",
              "    </tr>\n",
              "  </thead>\n",
              "  <tbody>\n",
              "    <tr>\n",
              "      <th>0</th>\n",
              "      <td>50</td>\n",
              "      <td>119.992</td>\n",
              "      <td>157.302</td>\n",
              "      <td>74.997</td>\n",
              "      <td>0.00784</td>\n",
              "      <td>0.00007</td>\n",
              "      <td>0.00370</td>\n",
              "      <td>0.00554</td>\n",
              "      <td>0.01109</td>\n",
              "      <td>0.04374</td>\n",
              "      <td>0.426</td>\n",
              "      <td>0.02182</td>\n",
              "      <td>0.03130</td>\n",
              "      <td>0.02971</td>\n",
              "      <td>0.06545</td>\n",
              "      <td>0.02211</td>\n",
              "      <td>21.033</td>\n",
              "      <td>1</td>\n",
              "      <td>0</td>\n",
              "      <td>1</td>\n",
              "    </tr>\n",
              "    <tr>\n",
              "      <th>1</th>\n",
              "      <td>52</td>\n",
              "      <td>122.400</td>\n",
              "      <td>148.650</td>\n",
              "      <td>113.819</td>\n",
              "      <td>0.00968</td>\n",
              "      <td>0.00008</td>\n",
              "      <td>0.00465</td>\n",
              "      <td>0.00696</td>\n",
              "      <td>0.01394</td>\n",
              "      <td>0.06134</td>\n",
              "      <td>0.626</td>\n",
              "      <td>0.03134</td>\n",
              "      <td>0.04518</td>\n",
              "      <td>0.04368</td>\n",
              "      <td>0.09403</td>\n",
              "      <td>0.01929</td>\n",
              "      <td>19.085</td>\n",
              "      <td>1</td>\n",
              "      <td>1</td>\n",
              "      <td>0</td>\n",
              "    </tr>\n",
              "    <tr>\n",
              "      <th>2</th>\n",
              "      <td>54</td>\n",
              "      <td>116.682</td>\n",
              "      <td>131.111</td>\n",
              "      <td>111.555</td>\n",
              "      <td>0.01050</td>\n",
              "      <td>0.00009</td>\n",
              "      <td>0.00544</td>\n",
              "      <td>0.00781</td>\n",
              "      <td>0.01633</td>\n",
              "      <td>0.05233</td>\n",
              "      <td>0.482</td>\n",
              "      <td>0.02757</td>\n",
              "      <td>0.03858</td>\n",
              "      <td>0.03590</td>\n",
              "      <td>0.08270</td>\n",
              "      <td>0.01309</td>\n",
              "      <td>20.651</td>\n",
              "      <td>1</td>\n",
              "      <td>0</td>\n",
              "      <td>1</td>\n",
              "    </tr>\n",
              "    <tr>\n",
              "      <th>3</th>\n",
              "      <td>57</td>\n",
              "      <td>116.676</td>\n",
              "      <td>137.871</td>\n",
              "      <td>111.366</td>\n",
              "      <td>0.00997</td>\n",
              "      <td>0.00009</td>\n",
              "      <td>0.00502</td>\n",
              "      <td>0.00698</td>\n",
              "      <td>0.01505</td>\n",
              "      <td>0.05492</td>\n",
              "      <td>0.517</td>\n",
              "      <td>0.02924</td>\n",
              "      <td>0.04005</td>\n",
              "      <td>0.03772</td>\n",
              "      <td>0.08771</td>\n",
              "      <td>0.01353</td>\n",
              "      <td>20.644</td>\n",
              "      <td>1</td>\n",
              "      <td>1</td>\n",
              "      <td>0</td>\n",
              "    </tr>\n",
              "    <tr>\n",
              "      <th>4</th>\n",
              "      <td>59</td>\n",
              "      <td>116.014</td>\n",
              "      <td>141.781</td>\n",
              "      <td>110.655</td>\n",
              "      <td>0.01284</td>\n",
              "      <td>0.00011</td>\n",
              "      <td>0.00655</td>\n",
              "      <td>0.00908</td>\n",
              "      <td>0.01966</td>\n",
              "      <td>0.06425</td>\n",
              "      <td>0.584</td>\n",
              "      <td>0.03490</td>\n",
              "      <td>0.04825</td>\n",
              "      <td>0.04465</td>\n",
              "      <td>0.10470</td>\n",
              "      <td>0.01767</td>\n",
              "      <td>19.649</td>\n",
              "      <td>1</td>\n",
              "      <td>0</td>\n",
              "      <td>1</td>\n",
              "    </tr>\n",
              "  </tbody>\n",
              "</table>\n",
              "</div>"
            ],
            "text/plain": [
              "   age  MDVP:Fo(Hz)  MDVP:Fhi(Hz)  ...  status  sexsexF  sexsexM\n",
              "0   50      119.992       157.302  ...       1        0        1\n",
              "1   52      122.400       148.650  ...       1        1        0\n",
              "2   54      116.682       131.111  ...       1        0        1\n",
              "3   57      116.676       137.871  ...       1        1        0\n",
              "4   59      116.014       141.781  ...       1        0        1\n",
              "\n",
              "[5 rows x 20 columns]"
            ]
          },
          "metadata": {
            "tags": []
          },
          "execution_count": 42
        }
      ]
    },
    {
      "cell_type": "code",
      "metadata": {
        "id": "unISFNwU3JMO"
      },
      "source": [
        "X = dataset.loc[:, dataset.columns !=\"status\"]\n",
        "y = dataset[\"status\"]"
      ],
      "execution_count": 43,
      "outputs": []
    },
    {
      "cell_type": "code",
      "metadata": {
        "id": "S5ULBwezgz35",
        "outputId": "867b4621-e58b-4065-de51-5d2add05a00b",
        "colab": {
          "base_uri": "https://localhost:8080/",
          "height": 215
        }
      },
      "source": [
        "X.head()"
      ],
      "execution_count": 44,
      "outputs": [
        {
          "output_type": "execute_result",
          "data": {
            "text/html": [
              "<div>\n",
              "<style scoped>\n",
              "    .dataframe tbody tr th:only-of-type {\n",
              "        vertical-align: middle;\n",
              "    }\n",
              "\n",
              "    .dataframe tbody tr th {\n",
              "        vertical-align: top;\n",
              "    }\n",
              "\n",
              "    .dataframe thead th {\n",
              "        text-align: right;\n",
              "    }\n",
              "</style>\n",
              "<table border=\"1\" class=\"dataframe\">\n",
              "  <thead>\n",
              "    <tr style=\"text-align: right;\">\n",
              "      <th></th>\n",
              "      <th>age</th>\n",
              "      <th>MDVP:Fo(Hz)</th>\n",
              "      <th>MDVP:Fhi(Hz)</th>\n",
              "      <th>MDVP:Flo(Hz)</th>\n",
              "      <th>MDVP:Jitter(%)</th>\n",
              "      <th>MDVP:Jitter(Abs)</th>\n",
              "      <th>MDVP:RAP</th>\n",
              "      <th>MDVP:PPQ</th>\n",
              "      <th>Jitter:DDP</th>\n",
              "      <th>MDVP:Shimmer</th>\n",
              "      <th>MDVP:Shimmer(dB)</th>\n",
              "      <th>Shimmer:APQ3</th>\n",
              "      <th>Shimmer:APQ5</th>\n",
              "      <th>MDVP:APQ</th>\n",
              "      <th>Shimmer:DDA</th>\n",
              "      <th>NHR</th>\n",
              "      <th>HNR</th>\n",
              "      <th>sexsexF</th>\n",
              "      <th>sexsexM</th>\n",
              "    </tr>\n",
              "  </thead>\n",
              "  <tbody>\n",
              "    <tr>\n",
              "      <th>0</th>\n",
              "      <td>50</td>\n",
              "      <td>119.992</td>\n",
              "      <td>157.302</td>\n",
              "      <td>74.997</td>\n",
              "      <td>0.00784</td>\n",
              "      <td>0.00007</td>\n",
              "      <td>0.00370</td>\n",
              "      <td>0.00554</td>\n",
              "      <td>0.01109</td>\n",
              "      <td>0.04374</td>\n",
              "      <td>0.426</td>\n",
              "      <td>0.02182</td>\n",
              "      <td>0.03130</td>\n",
              "      <td>0.02971</td>\n",
              "      <td>0.06545</td>\n",
              "      <td>0.02211</td>\n",
              "      <td>21.033</td>\n",
              "      <td>0</td>\n",
              "      <td>1</td>\n",
              "    </tr>\n",
              "    <tr>\n",
              "      <th>1</th>\n",
              "      <td>52</td>\n",
              "      <td>122.400</td>\n",
              "      <td>148.650</td>\n",
              "      <td>113.819</td>\n",
              "      <td>0.00968</td>\n",
              "      <td>0.00008</td>\n",
              "      <td>0.00465</td>\n",
              "      <td>0.00696</td>\n",
              "      <td>0.01394</td>\n",
              "      <td>0.06134</td>\n",
              "      <td>0.626</td>\n",
              "      <td>0.03134</td>\n",
              "      <td>0.04518</td>\n",
              "      <td>0.04368</td>\n",
              "      <td>0.09403</td>\n",
              "      <td>0.01929</td>\n",
              "      <td>19.085</td>\n",
              "      <td>1</td>\n",
              "      <td>0</td>\n",
              "    </tr>\n",
              "    <tr>\n",
              "      <th>2</th>\n",
              "      <td>54</td>\n",
              "      <td>116.682</td>\n",
              "      <td>131.111</td>\n",
              "      <td>111.555</td>\n",
              "      <td>0.01050</td>\n",
              "      <td>0.00009</td>\n",
              "      <td>0.00544</td>\n",
              "      <td>0.00781</td>\n",
              "      <td>0.01633</td>\n",
              "      <td>0.05233</td>\n",
              "      <td>0.482</td>\n",
              "      <td>0.02757</td>\n",
              "      <td>0.03858</td>\n",
              "      <td>0.03590</td>\n",
              "      <td>0.08270</td>\n",
              "      <td>0.01309</td>\n",
              "      <td>20.651</td>\n",
              "      <td>0</td>\n",
              "      <td>1</td>\n",
              "    </tr>\n",
              "    <tr>\n",
              "      <th>3</th>\n",
              "      <td>57</td>\n",
              "      <td>116.676</td>\n",
              "      <td>137.871</td>\n",
              "      <td>111.366</td>\n",
              "      <td>0.00997</td>\n",
              "      <td>0.00009</td>\n",
              "      <td>0.00502</td>\n",
              "      <td>0.00698</td>\n",
              "      <td>0.01505</td>\n",
              "      <td>0.05492</td>\n",
              "      <td>0.517</td>\n",
              "      <td>0.02924</td>\n",
              "      <td>0.04005</td>\n",
              "      <td>0.03772</td>\n",
              "      <td>0.08771</td>\n",
              "      <td>0.01353</td>\n",
              "      <td>20.644</td>\n",
              "      <td>1</td>\n",
              "      <td>0</td>\n",
              "    </tr>\n",
              "    <tr>\n",
              "      <th>4</th>\n",
              "      <td>59</td>\n",
              "      <td>116.014</td>\n",
              "      <td>141.781</td>\n",
              "      <td>110.655</td>\n",
              "      <td>0.01284</td>\n",
              "      <td>0.00011</td>\n",
              "      <td>0.00655</td>\n",
              "      <td>0.00908</td>\n",
              "      <td>0.01966</td>\n",
              "      <td>0.06425</td>\n",
              "      <td>0.584</td>\n",
              "      <td>0.03490</td>\n",
              "      <td>0.04825</td>\n",
              "      <td>0.04465</td>\n",
              "      <td>0.10470</td>\n",
              "      <td>0.01767</td>\n",
              "      <td>19.649</td>\n",
              "      <td>0</td>\n",
              "      <td>1</td>\n",
              "    </tr>\n",
              "  </tbody>\n",
              "</table>\n",
              "</div>"
            ],
            "text/plain": [
              "   age  MDVP:Fo(Hz)  MDVP:Fhi(Hz)  ...     HNR  sexsexF  sexsexM\n",
              "0   50      119.992       157.302  ...  21.033        0        1\n",
              "1   52      122.400       148.650  ...  19.085        1        0\n",
              "2   54      116.682       131.111  ...  20.651        0        1\n",
              "3   57      116.676       137.871  ...  20.644        1        0\n",
              "4   59      116.014       141.781  ...  19.649        0        1\n",
              "\n",
              "[5 rows x 19 columns]"
            ]
          },
          "metadata": {
            "tags": []
          },
          "execution_count": 44
        }
      ]
    },
    {
      "cell_type": "code",
      "metadata": {
        "id": "30PFuTFRg3BW",
        "outputId": "bd4983d7-7718-4c39-973f-59f3c1bd13a3",
        "colab": {
          "base_uri": "https://localhost:8080/"
        }
      },
      "source": [
        "y.head()"
      ],
      "execution_count": 45,
      "outputs": [
        {
          "output_type": "execute_result",
          "data": {
            "text/plain": [
              "0    1\n",
              "1    1\n",
              "2    1\n",
              "3    1\n",
              "4    1\n",
              "Name: status, dtype: int64"
            ]
          },
          "metadata": {
            "tags": []
          },
          "execution_count": 45
        }
      ]
    },
    {
      "cell_type": "markdown",
      "metadata": {
        "id": "uioLGexvhyrZ"
      },
      "source": [
        "**Train-Test split**"
      ]
    },
    {
      "cell_type": "code",
      "metadata": {
        "id": "0P9hScgGhH8S"
      },
      "source": [
        "from sklearn.model_selection import train_test_split\n",
        "X_train, X_test, y_train, y_test = train_test_split(X, y, test_size=0.2, random_state =0)"
      ],
      "execution_count": 46,
      "outputs": []
    },
    {
      "cell_type": "code",
      "metadata": {
        "id": "JUKREzCkh5od",
        "outputId": "4f00a22f-b965-4a5b-e722-573717e6fa3a",
        "colab": {
          "base_uri": "https://localhost:8080/"
        }
      },
      "source": [
        "print (\"Dimention for X train:\", X_train.shape)\n",
        "print (\"Dimention for X test:\", X_test.shape)\n",
        "print (\"Dimention for y train:\", y_train.shape)\n",
        "print (\"Dimention for y test:\", y_test.shape)"
      ],
      "execution_count": 47,
      "outputs": [
        {
          "output_type": "stream",
          "text": [
            "Dimention for X train: (156, 19)\n",
            "Dimention for X test: (39, 19)\n",
            "Dimention for y train: (156,)\n",
            "Dimention for y test: (39,)\n"
          ],
          "name": "stdout"
        }
      ]
    },
    {
      "cell_type": "markdown",
      "metadata": {
        "id": "9G50biL9ijAc"
      },
      "source": [
        "**Standardization of Data**"
      ]
    },
    {
      "cell_type": "code",
      "metadata": {
        "id": "UwFFdpjyiiMe"
      },
      "source": [
        "from sklearn.preprocessing import StandardScaler\n",
        "sc = StandardScaler().fit(X_train)\n",
        "X_train = sc.transform(X_train)\n",
        "X_test = sc.transform(X_test)"
      ],
      "execution_count": 48,
      "outputs": []
    },
    {
      "cell_type": "code",
      "metadata": {
        "id": "gtT-nx5IjOIB",
        "outputId": "f4860364-c526-4b21-f2c1-fc8342634b92",
        "colab": {
          "base_uri": "https://localhost:8080/"
        }
      },
      "source": [
        "X_train"
      ],
      "execution_count": 49,
      "outputs": [
        {
          "output_type": "execute_result",
          "data": {
            "text/plain": [
              "array([[-1.10902309,  0.42106183,  0.05057195, ...,  0.92083391,\n",
              "        -1.        ,  1.        ],\n",
              "       [-0.67514823, -0.95694554, -0.73133513, ..., -0.65388412,\n",
              "         1.        , -1.        ],\n",
              "       [ 0.40953893,  1.21847901,  0.28739437, ..., -0.67914342,\n",
              "        -1.        ,  1.        ],\n",
              "       ...,\n",
              "       [-0.24127336,  0.41390707,  2.52073344, ...,  0.87253104,\n",
              "         1.        , -1.        ],\n",
              "       [ 1.16881995,  2.46491405,  0.59348186, ...,  1.11958473,\n",
              "         1.        , -1.        ],\n",
              "       [ 0.73494508, -1.09278562, -0.91648442, ...,  1.06308366,\n",
              "        -1.        ,  1.        ]])"
            ]
          },
          "metadata": {
            "tags": []
          },
          "execution_count": 49
        }
      ]
    },
    {
      "cell_type": "code",
      "metadata": {
        "id": "mG70IYFqjSRx",
        "outputId": "265e637f-2c24-4265-a693-dec7e7c4e3b2",
        "colab": {
          "base_uri": "https://localhost:8080/"
        }
      },
      "source": [
        "X_test"
      ],
      "execution_count": 50,
      "outputs": [
        {
          "output_type": "execute_result",
          "data": {
            "text/plain": [
              "array([[ 3.01070218e-01, -1.39240702e+00, -1.03177646e+00,\n",
              "        -6.39882078e-01, -4.06992866e-01, -1.42903286e-01,\n",
              "        -2.98448321e-01, -3.22593528e-01, -2.97492537e-01,\n",
              "        -4.07764083e-01, -4.23973499e-01, -2.99011770e-01,\n",
              "        -3.73880760e-01, -5.11323405e-01, -2.98999852e-01,\n",
              "        -4.23039828e-01,  1.08991102e-01, -1.00000000e+00,\n",
              "         1.00000000e+00],\n",
              "       [-1.32804646e-01, -4.35375863e-01, -4.44074995e-01,\n",
              "         4.09642413e-01, -6.72245888e-01, -6.83337529e-01,\n",
              "        -6.97675522e-01, -6.78064904e-01, -6.96714983e-01,\n",
              "        -8.99920345e-01, -8.62663742e-01, -8.87426410e-01,\n",
              "        -8.78534519e-01, -7.43171542e-01, -8.87418927e-01,\n",
              "        -4.91188069e-01,  8.75411485e-01, -1.00000000e+00,\n",
              "         1.00000000e+00],\n",
              "       [ 4.09538934e-01,  1.20494772e+00,  8.41732685e-02,\n",
              "         1.99829396e+00, -8.87883237e-01, -9.80576363e-01,\n",
              "        -7.75045135e-01, -8.33795221e-01, -7.76146840e-01,\n",
              "        -1.05563369e+00, -9.94270816e-01, -1.06461407e+00,\n",
              "        -9.68017854e-01, -9.80084323e-01, -1.06460792e+00,\n",
              "        -6.06428782e-01,  2.42221134e+00, -1.00000000e+00,\n",
              "         1.00000000e+00],\n",
              "       [ 1.49422609e+00,  1.40264512e+00,  2.99626028e-01,\n",
              "         1.71290500e+00, -2.12346763e-01, -4.13120407e-01,\n",
              "        -6.94342678e-02, -2.48113812e-01, -6.84812108e-02,\n",
              "        -6.84984882e-01, -6.82313309e-01, -6.93183252e-01,\n",
              "        -6.36687670e-01, -6.52570692e-01, -6.93174304e-01,\n",
              "        -4.82358230e-01,  4.25175516e-01,  1.00000000e+00,\n",
              "        -1.00000000e+00],\n",
              "       [-3.49742078e-01, -1.04739681e+00, -7.14559996e-01,\n",
              "        -2.07465047e-01, -5.53931591e-01, -4.13120407e-01,\n",
              "        -5.49125866e-01, -5.52803562e-01, -5.48167096e-01,\n",
              "        -8.49377326e-01, -7.79800030e-01, -8.79846189e-01,\n",
              "        -8.22909744e-01, -7.43171542e-01, -8.79838649e-01,\n",
              "        -5.24243362e-01,  1.03782436e+00, -1.00000000e+00,\n",
              "         1.00000000e+00],\n",
              "       [-1.54289795e+00, -1.19880164e+00, -9.24856673e-01,\n",
              "        -5.11902474e-01, -1.07390531e-01,  3.97530958e-01,\n",
              "        -1.62277803e-01, -1.16081587e-01, -1.62355223e-01,\n",
              "         9.75276700e-01,  7.40992816e-01,  1.03321203e+00,\n",
              "         1.05220950e+00,  6.69864070e-01,  1.03354984e+00,\n",
              "         6.35069155e-02, -1.03964240e+00, -1.00000000e+00,\n",
              "         1.00000000e+00],\n",
              "       [-6.75148226e-01, -1.05736327e+00, -7.31968154e-01,\n",
              "        -4.05144163e-01, -2.40971190e-01,  1.27313836e-01,\n",
              "        -1.62277803e-01, -2.34572045e-01, -1.62355223e-01,\n",
              "        -6.46184181e-01, -6.53067293e-01, -5.92745326e-01,\n",
              "        -6.23789171e-01, -6.17680924e-01, -5.92419777e-01,\n",
              "        -2.97837246e-01, -1.18121038e-01, -1.00000000e+00,\n",
              "         1.00000000e+00],\n",
              "       [-3.49742078e-01,  4.94660301e-02, -8.42621484e-02,\n",
              "        -8.32636115e-01,  9.29804567e-02, -1.42903286e-01,\n",
              "         1.84338062e-01,  1.41211980e-01,  1.84256514e-01,\n",
              "        -3.46499818e-01, -3.16738106e-01, -2.87641439e-01,\n",
              "        -3.11806735e-01, -4.16783388e-01, -2.87629435e-01,\n",
              "        -1.65389668e-01, -5.66362853e-01,  1.00000000e+00,\n",
              "        -1.00000000e+00],\n",
              "       [-1.32596052e+00, -1.09142998e+00, -7.68397661e-01,\n",
              "        -1.68812841e-01, -2.88678568e-01, -1.42903286e-01,\n",
              "        -2.58216123e-01, -2.37957487e-01, -2.58292400e-01,\n",
              "        -2.95956799e-01, -3.55732794e-01, -1.52144993e-01,\n",
              "        -3.88391571e-01, -3.54319448e-01, -1.52447812e-01,\n",
              "        -5.14281492e-01,  8.16694688e-01, -1.00000000e+00,\n",
              "         1.00000000e+00],\n",
              "       [ 1.06035123e+00, -3.06924210e-02, -2.81091752e-01,\n",
              "        -1.10296013e+00,  1.84578623e-01,  1.27313836e-01,\n",
              "         6.36414660e-02,  2.66473322e-01,  6.35613555e-02,\n",
              "         1.27393999e+00,  1.23330076e+00,  8.32336183e-01,\n",
              "         1.42304133e+00,  1.86061809e+00,  8.32356630e-01,\n",
              "         9.27133045e-02, -9.90896375e-01,  1.00000000e+00,\n",
              "        -1.00000000e+00],\n",
              "       [ 8.41327861e-02, -1.17831642e+00, -9.14003376e-01,\n",
              "        -2.41264603e-01, -6.77970774e-01, -4.13120407e-01,\n",
              "        -6.17211125e-01, -5.79887095e-01, -6.18314710e-01,\n",
              "        -7.42675398e-01, -7.55428349e-01, -7.23504135e-01,\n",
              "        -6.93924758e-01, -6.77893911e-01, -7.23495416e-01,\n",
              "        -5.44846318e-01,  1.13886157e+00, -1.00000000e+00,\n",
              "         1.00000000e+00],\n",
              "       [-6.75148226e-01, -8.46435832e-01, -7.37144656e-01,\n",
              "        -1.25864655e-02,  6.15853321e-01,  9.37965202e-01,\n",
              "         3.70025132e-01,  1.34304377e+00,  3.68909790e-01,\n",
              "         8.57342990e-01,  8.14107856e-01,  6.96839737e-01,\n",
              "         1.38595815e+00,  4.40266886e-01,  6.97175007e-01,\n",
              "        -3.46061748e-01, -8.28909600e-02, -1.00000000e+00,\n",
              "         1.00000000e+00],\n",
              "       [ 7.34945082e-01, -2.28314509e-01, -5.36115379e-02,\n",
              "        -8.12911660e-01,  1.67403967e-01,  1.27313836e-01,\n",
              "         2.18380691e-01,  2.32618906e-01,  2.18298738e-01,\n",
              "        -3.36799642e-01, -2.72869081e-01, -3.38807930e-01,\n",
              "        -2.51345023e-01, -2.90730032e-01, -3.38480466e-01,\n",
              "        -1.98444961e-01, -6.41476038e-01,  1.00000000e+00,\n",
              "        -1.00000000e+00],\n",
              "       [-7.83616942e-01, -9.77732010e-01, -6.90423406e-01,\n",
              "        -1.57079566e-01, -5.01416777e-02,  1.27313836e-01,\n",
              "         2.65040519e-02, -8.22271698e-02,  2.74559663e-02,\n",
              "         1.28298236e-01,  1.75569835e-01,  4.87308585e-02,\n",
              "        -6.83475733e-02,  2.64692568e-01,  4.90612433e-02,\n",
              "         1.34711639e-02, -5.23820871e-01, -1.00000000e+00,\n",
              "         1.00000000e+00],\n",
              "       [-1.32804646e-01,  2.27750947e+00,  7.02964375e-01,\n",
              "         3.01447760e+00, -3.70735259e-01, -6.83337529e-01,\n",
              "        -1.99415217e-01, -3.93687803e-01, -1.99492195e-01,\n",
              "        -5.74198669e-01, -5.26334555e-01, -4.81884597e-01,\n",
              "        -5.52847429e-01, -6.78456649e-01, -4.81558212e-01,\n",
              "        -3.85230006e-01, -4.96550370e-02,  1.00000000e+00,\n",
              "        -1.00000000e+00],\n",
              "       [ 1.16881995e+00, -1.45771137e-01, -4.31700398e-01,\n",
              "         6.68498725e-01, -4.73783195e-01, -4.13120407e-01,\n",
              "        -4.37713624e-01, -4.00458687e-01, -4.38819346e-01,\n",
              "        -6.07894015e-01, -6.14072604e-01, -6.08853296e-01,\n",
              "        -5.67358240e-01, -5.07384238e-01, -6.09159557e-01,\n",
              "        -4.78056514e-01,  2.46809396e-01, -1.00000000e+00,\n",
              "         1.00000000e+00],\n",
              "       [-1.32804646e-01,  6.96633180e-01, -6.31681573e-02,\n",
              "        -8.47918343e-01,  3.75408135e-01,  1.27313836e-01,\n",
              "         5.03100866e-01,  3.24025831e-01,  5.01983939e-01,\n",
              "        -2.64814131e-01, -2.82617753e-01, -2.08996649e-01,\n",
              "        -1.82821749e-01, -2.98045628e-01, -2.09299896e-01,\n",
              "        -2.12255734e-01, -6.57650854e-01,  1.00000000e+00,\n",
              "        -1.00000000e+00],\n",
              "       [ 5.18007650e-01,  1.37761600e+00,  3.48511812e-01,\n",
              "        -1.19006781e-01, -6.93237135e-01, -9.53554651e-01,\n",
              "        -6.07926772e-01, -6.81450345e-01, -6.06967302e-01,\n",
              "        -5.92577949e-01, -5.79952252e-01, -5.85165106e-01,\n",
              "        -4.42404034e-01, -6.06988899e-01, -5.85155344e-01,\n",
              "        -4.25530295e-01,  8.42397135e-01,  1.00000000e+00,\n",
              "        -1.00000000e+00],\n",
              "       [-2.41273362e-01,  2.23857249e+00,  4.85510443e-01,\n",
              "         2.85187760e+00, -8.30634384e-01, -9.80576363e-01,\n",
              "        -7.25528583e-01, -7.32231971e-01, -7.25599295e-01,\n",
              "        -8.18234658e-01, -7.94423038e-01, -7.72775570e-01,\n",
              "        -7.32620254e-01, -8.03384529e-01, -7.73083068e-01,\n",
              "        -5.19941645e-01,  8.01184591e-01, -1.00000000e+00,\n",
              "         1.00000000e+00],\n",
              "       [ 8.41327861e-02,  1.35098020e+00,  5.14915426e-01,\n",
              "        -5.43360203e-01,  2.13203050e-01, -1.42903286e-01,\n",
              "         2.61707674e-01,  2.52931556e-01,  2.62656788e-01,\n",
              "         1.89066693e+00,  1.37465650e+00,  2.29626632e+00,\n",
              "         1.77049464e+00,  1.12737022e+00,  2.29598196e+00,\n",
              "         3.36779098e-01, -1.35250322e+00,  1.00000000e+00,\n",
              "        -1.00000000e+00],\n",
              "       [ 1.06035123e+00, -1.10086925e+00, -7.38114613e-01,\n",
              "        -2.64079303e-01,  2.64727018e-01,  6.67748080e-01,\n",
              "         2.65040519e-02,  5.44079539e-01,  2.64243838e-02,\n",
              "         3.53954946e-01,  2.19438859e-01,  4.16371567e-01,\n",
              "         3.99223003e-01,  1.92099341e-01,  4.16704723e-01,\n",
              "        -4.03342496e-01, -7.31417559e-02,  1.00000000e+00,\n",
              "        -1.00000000e+00],\n",
              "       [ 8.43413798e-01, -1.01807483e+00, -8.87426581e-01,\n",
              "        -4.19967682e-01, -5.65381361e-01, -4.13120407e-01,\n",
              "        -5.33651944e-01, -5.08792820e-01, -5.32693358e-01,\n",
              "        -7.91176275e-01, -7.60302685e-01, -8.00253871e-01,\n",
              "        -7.26977160e-01, -7.38669637e-01, -7.99929885e-01,\n",
              "        -5.14507899e-01,  1.06241895e+00, -1.00000000e+00,\n",
              "         1.00000000e+00],\n",
              "       [-1.10902309e+00, -1.02598273e+00, -7.14866298e-01,\n",
              "        -1.56741571e-01, -3.70735259e-01, -1.42903286e-01,\n",
              "        -3.85102287e-01, -2.37957487e-01, -3.84145471e-01,\n",
              "         9.48218316e-01,  6.92249455e-01,  7.50848810e-01,\n",
              "         9.40153789e-01,  1.07447283e+00,  7.50552797e-01,\n",
              "        -1.06976890e-01, -6.06910679e-01,  1.00000000e+00,\n",
              "        -1.00000000e+00],\n",
              "       [ 1.49422609e+00,  6.38717256e-01,  2.30442638e-01,\n",
              "         7.38029240e-01,  1.21604884e-01, -1.42903286e-01,\n",
              "         1.47200648e-01,  2.22462581e-01,  1.46087960e-01,\n",
              "         6.59255200e-01,  7.45867152e-01,  6.67466381e-01,\n",
              "         7.74891776e-01,  5.59567384e-01,  6.67801430e-01,\n",
              "         1.01260135e+00, -2.19049162e+00, -1.00000000e+00,\n",
              "         1.00000000e+00],\n",
              "       [-1.32596052e+00,  1.87187206e+00,  3.19157879e-01,\n",
              "         2.63939911e+00, -6.66521003e-01, -9.53554651e-01,\n",
              "        -5.21272806e-01, -6.71294020e-01, -5.20314367e-01,\n",
              "        -7.03364161e-01, -7.01810653e-01, -6.73285172e-01,\n",
              "        -5.89930612e-01, -7.21224752e-01, -6.72960230e-01,\n",
              "        -5.43261475e-01,  9.33241991e-01, -1.00000000e+00,\n",
              "         1.00000000e+00],\n",
              "       [ 1.60269481e+00, -1.11485242e+00, -7.86193801e-01,\n",
              "        -2.38319213e-01,  4.36473579e-01,  9.37965202e-01,\n",
              "         1.68864139e-01,  6.28715581e-01,  1.67751193e-01,\n",
              "         9.56239615e-02,  8.78317860e-02,  1.86122360e-01,\n",
              "         1.49314591e-01, -3.73355150e-03,  1.86453781e-01,\n",
              "        -3.55570805e-01, -2.18271953e-01, -1.00000000e+00,\n",
              "         1.00000000e+00],\n",
              "       [-3.49742078e-01,  1.16598564e+00,  2.10553434e-01,\n",
              "        -5.94445818e-01, -4.63250874e-02, -4.13120407e-01,\n",
              "         8.53049575e-02, -5.51436364e-02,  8.41930065e-02,\n",
              "        -3.75600344e-01, -3.99601818e-01, -3.79551616e-01,\n",
              "        -2.96489768e-01, -3.42501946e-01, -3.79540305e-01,\n",
              "        -4.63340116e-01,  3.29456057e-01,  1.00000000e+00,\n",
              "        -1.00000000e+00],\n",
              "       [-1.32596052e+00,  2.08503379e+00,  4.11967356e-01,\n",
              "         2.77512846e+00, -6.53162937e-01, -9.53554651e-01,\n",
              "        -5.27462375e-01, -6.57752254e-01, -5.27535445e-01,\n",
              "        -9.08599449e-01, -8.43166398e-01, -8.49525306e-01,\n",
              "        -8.54349834e-01, -8.88357997e-01, -8.49201692e-01,\n",
              "        -5.02055562e-01,  6.48520918e-01, -1.00000000e+00,\n",
              "         1.00000000e+00],\n",
              "       [ 1.60269481e+00, -9.76275953e-01, -8.19366298e-01,\n",
              "        -1.36992973e-01, -5.97822378e-01, -4.13120407e-01,\n",
              "        -5.67694573e-01, -5.22334587e-01, -5.67767165e-01,\n",
              "        -7.75349673e-01, -7.40805341e-01, -7.39612104e-01,\n",
              "        -7.04404788e-01, -7.47110710e-01, -7.39603507e-01,\n",
              "        -5.31941170e-01,  9.42326477e-01,  1.00000000e+00,\n",
              "        -1.00000000e+00],\n",
              "       [ 1.49422609e+00,  2.22383619e+00,  5.27596325e-01,\n",
              "         2.74265675e+00, -8.02009957e-01, -9.80576363e-01,\n",
              "        -7.00770307e-01, -7.25461087e-01, -7.01872896e-01,\n",
              "        -7.79944493e-01, -7.55428349e-01, -7.06448638e-01,\n",
              "        -7.47937221e-01, -8.14076555e-01, -7.06123946e-01,\n",
              "        -5.14960711e-01,  7.26736123e-01, -1.00000000e+00,\n",
              "         1.00000000e+00],\n",
              "       [ 5.18007650e-01,  3.42961944e-01, -1.03518328e-01,\n",
              "        -8.50791305e-01, -3.87909915e-01, -4.13120407e-01,\n",
              "        -3.82007503e-01, -3.59833387e-01, -3.81050723e-01,\n",
              "         6.78655550e-01,  4.29035309e-01,  6.02086977e-01,\n",
              "         5.91088170e-01,  1.00469330e+00,  6.02421533e-01,\n",
              "        -3.32930194e-01,  1.58623413e-01, -1.00000000e+00,\n",
              "         1.00000000e+00],\n",
              "       [ 1.49422609e+00, -9.13765918e-01, -7.76075628e-01,\n",
              "        -4.50363140e-01,  3.29058582e-03,  1.27313836e-01,\n",
              "         3.88831899e-02, -1.80404978e-01,  3.77717918e-02,\n",
              "         3.33386254e-02, -6.32726313e-02,  6.29437725e-02,\n",
              "        -2.24276779e-03, -3.29959377e-02,  6.29584195e-02,\n",
              "        -2.70555309e-02,  1.50425219e-01,  1.00000000e+00,\n",
              "        -1.00000000e+00],\n",
              "       [-5.66679510e-01, -3.49644228e-01, -4.45014321e-01,\n",
              "        -1.14163648e+00,  3.27700757e-01,  3.97530958e-01,\n",
              "         2.67897243e-01,  2.93556856e-01,  2.66783118e-01,\n",
              "         9.00080706e-02,  1.17077802e-01,  2.24970992e-01,\n",
              "         2.59416920e-03, -1.83647446e-02,  2.24986860e-01,\n",
              "        -1.28485471e-01, -4.85710346e-01,  1.00000000e+00,\n",
              "        -1.00000000e+00],\n",
              "       [-3.49742078e-01,  5.49822463e-01, -1.81288381e-01,\n",
              "         1.18915674e+00, -5.27215459e-01, -6.83337529e-01,\n",
              "        -4.28429270e-01, -4.58011195e-01, -4.27471938e-01,\n",
              "        -5.97683304e-01, -5.89700924e-01, -6.20223627e-01,\n",
              "        -5.21407338e-01, -5.45650435e-01, -6.20214129e-01,\n",
              "        -5.45751943e-01,  7.08788725e-01, -1.00000000e+00,\n",
              "         1.00000000e+00],\n",
              "       [-5.66679510e-01, -9.60359744e-01, -6.28723993e-01,\n",
              "        -8.82009002e-02,  1.21887458e+00,  1.74861657e+00,\n",
              "         9.64223757e-01,  1.87794356e+00,  9.65164504e-01,\n",
              "         1.73750626e+00,  1.43802287e+00,  1.79786681e+00,\n",
              "         2.43315501e+00,  1.12793296e+00,  1.79789453e+00,\n",
              "        -2.22670415e-01, -4.65990365e-01, -1.00000000e+00,\n",
              "         1.00000000e+00],\n",
              "       [ 8.41327861e-02, -1.46013877e+00, -9.66850664e-01,\n",
              "        -7.19407604e-01,  9.29804567e-02,  6.67748080e-01,\n",
              "         1.41011079e-01,  2.08920814e-01,  1.41961629e-01,\n",
              "         5.11710428e-01,  3.65668940e-01,  6.38093025e-01,\n",
              "         5.19340271e-01,  2.33741968e-01,  6.38427853e-01,\n",
              "        -2.09991673e-01, -5.97604620e-01,  1.00000000e+00,\n",
              "        -1.00000000e+00],\n",
              "       [-2.41273362e-01, -1.37536883e-01, -4.59461561e-01,\n",
              "         5.95877965e-01, -6.41713166e-01, -6.83337529e-01,\n",
              "        -5.92452849e-01, -5.66345329e-01, -5.92525146e-01,\n",
              "        -7.39101649e-01, -7.16433661e-01, -7.14028859e-01,\n",
              "        -6.85863196e-01, -6.48068787e-01, -7.13704224e-01,\n",
              "        -5.12243837e-01,  5.89360975e-01,  1.00000000e+00,\n",
              "        -1.00000000e+00],\n",
              "       [ 4.09538934e-01,  2.03197847e-02, -4.04562049e-01,\n",
              "         7.20405186e-01, -9.10782779e-01, -9.53554651e-01,\n",
              "        -8.52414748e-01, -8.84576846e-01, -8.52483948e-01,\n",
              "        -9.99474776e-01, -9.35778783e-01, -1.01439511e+00,\n",
              "        -9.47057793e-01, -8.62472040e-01, -1.01407274e+00,\n",
              "        -5.69977397e-01,  1.77123040e+00,  1.00000000e+00,\n",
              "        -1.00000000e+00],\n",
              "       [-1.10902309e+00, -1.00494521e+00, -8.06256576e-01,\n",
              "        -9.00186942e-01, -1.22656892e-01,  1.27313836e-01,\n",
              "        -1.37519527e-01, -1.26237912e-01, -1.38628824e-01,\n",
              "         5.04052395e-01,  5.70391054e-01, -1.28584354e-02,\n",
              "         1.50926904e-01,  9.30411855e-01, -1.31602047e-02,\n",
              "        -1.53390144e-01, -2.91390983e-01,  1.00000000e+00,\n",
              "        -1.00000000e+00]])"
            ]
          },
          "metadata": {
            "tags": []
          },
          "execution_count": 50
        }
      ]
    },
    {
      "cell_type": "markdown",
      "metadata": {
        "id": "kBHofHtQjhox"
      },
      "source": [
        "**Classification SVM**"
      ]
    },
    {
      "cell_type": "markdown",
      "metadata": {
        "id": "RmyuqOu3n7xb"
      },
      "source": [
        "**Linear**"
      ]
    },
    {
      "cell_type": "code",
      "metadata": {
        "id": "xSDxIIkijk5e",
        "outputId": "4395e5bb-6ce0-46f0-992d-2d436a2d425e",
        "colab": {
          "base_uri": "https://localhost:8080/"
        }
      },
      "source": [
        "from sklearn import svm\n",
        "cl = svm.SVC(kernel='linear', C=0.01)\n",
        "cl.fit(X_train, y_train)"
      ],
      "execution_count": 51,
      "outputs": [
        {
          "output_type": "execute_result",
          "data": {
            "text/plain": [
              "SVC(C=0.01, break_ties=False, cache_size=200, class_weight=None, coef0=0.0,\n",
              "    decision_function_shape='ovr', degree=3, gamma='scale', kernel='linear',\n",
              "    max_iter=-1, probability=False, random_state=None, shrinking=True,\n",
              "    tol=0.001, verbose=False)"
            ]
          },
          "metadata": {
            "tags": []
          },
          "execution_count": 51
        }
      ]
    },
    {
      "cell_type": "code",
      "metadata": {
        "id": "JUP-eJ0fkLgX"
      },
      "source": [
        "y_pred = cl.predict(X_train)"
      ],
      "execution_count": 52,
      "outputs": []
    },
    {
      "cell_type": "code",
      "metadata": {
        "id": "W85oyHpKkaQC",
        "outputId": "14ee5b36-c02d-41d6-9c43-efb43e291931",
        "colab": {
          "base_uri": "https://localhost:8080/"
        }
      },
      "source": [
        "y_pred_1 = cl.predict(X_test)\n",
        "y_pred_1"
      ],
      "execution_count": 53,
      "outputs": [
        {
          "output_type": "execute_result",
          "data": {
            "text/plain": [
              "array([1, 1, 1, 1, 1, 1, 1, 1, 1, 1, 1, 1, 1, 1, 1, 1, 1, 1, 1, 1, 1, 1,\n",
              "       1, 1, 1, 1, 1, 1, 1, 1, 1, 1, 1, 1, 1, 1, 1, 1, 1])"
            ]
          },
          "metadata": {
            "tags": []
          },
          "execution_count": 53
        }
      ]
    },
    {
      "cell_type": "markdown",
      "metadata": {
        "id": "aHS2hrJnkriY"
      },
      "source": [
        "**Models Performance**"
      ]
    },
    {
      "cell_type": "code",
      "metadata": {
        "id": "p7oIfhLrkqnW",
        "outputId": "e451d41e-fe90-4f3a-b1e2-d77747d059ed",
        "colab": {
          "base_uri": "https://localhost:8080/"
        }
      },
      "source": [
        "from sklearn.metrics import accuracy_score, confusion_matrix\n",
        "cm = confusion_matrix(y_test, y_pred_1)\n",
        "cm"
      ],
      "execution_count": 54,
      "outputs": [
        {
          "output_type": "execute_result",
          "data": {
            "text/plain": [
              "array([[ 0, 10],\n",
              "       [ 0, 29]])"
            ]
          },
          "metadata": {
            "tags": []
          },
          "execution_count": 54
        }
      ]
    },
    {
      "cell_type": "code",
      "metadata": {
        "id": "P3cSBr2Joi0p",
        "outputId": "73be971e-85e4-4fb1-c22f-a4571407508a",
        "colab": {
          "base_uri": "https://localhost:8080/"
        }
      },
      "source": [
        "acc = accuracy_score(y_test, y_pred_1)\n",
        "acc"
      ],
      "execution_count": 55,
      "outputs": [
        {
          "output_type": "execute_result",
          "data": {
            "text/plain": [
              "0.7435897435897436"
            ]
          },
          "metadata": {
            "tags": []
          },
          "execution_count": 55
        }
      ]
    },
    {
      "cell_type": "code",
      "metadata": {
        "id": "kGpXR27tpRfQ",
        "outputId": "4fac2a41-c2be-4fa4-cdcd-57ef0122faab",
        "colab": {
          "base_uri": "https://localhost:8080/"
        }
      },
      "source": [
        "cl.n_support_"
      ],
      "execution_count": 56,
      "outputs": [
        {
          "output_type": "execute_result",
          "data": {
            "text/plain": [
              "array([38, 40], dtype=int32)"
            ]
          },
          "metadata": {
            "tags": []
          },
          "execution_count": 56
        }
      ]
    },
    {
      "cell_type": "markdown",
      "metadata": {
        "id": "5x4n1Kplpz8P"
      },
      "source": [
        "**Grid Search**"
      ]
    },
    {
      "cell_type": "code",
      "metadata": {
        "id": "l6zxLDxop2H3",
        "outputId": "fd8b72ac-07fa-45e0-fe6c-e049677bb140",
        "colab": {
          "base_uri": "https://localhost:8080/"
        }
      },
      "source": [
        "from sklearn.model_selection import GridSearchCV\n",
        "parameters = {'C': [0.001, 0.005, 0.01, 0.05, 0.1, 0.5, 1, 5, 10, 50, 100, 500, 1000, 5000],\n",
        "              'degree': [2, 3, 4, 5],\n",
        "              'gamma':[0.001, 0.01, 0.1, 0.5, 1],\n",
        "              'kernel': ['rbf','poly']\n",
        "              }        \n",
        "cl = svm.SVC()\n",
        "grid = GridSearchCV(cl, parameters, cv=10)\n",
        "grid.fit(X_train, y_train)\n",
        "print(grid.best_params_)\n",
        "print(grid.best_estimator_)"
      ],
      "execution_count": 57,
      "outputs": [
        {
          "output_type": "stream",
          "text": [
            "{'C': 5, 'degree': 4, 'gamma': 0.1, 'kernel': 'poly'}\n",
            "SVC(C=5, break_ties=False, cache_size=200, class_weight=None, coef0=0.0,\n",
            "    decision_function_shape='ovr', degree=4, gamma=0.1, kernel='poly',\n",
            "    max_iter=-1, probability=False, random_state=None, shrinking=True,\n",
            "    tol=0.001, verbose=False)\n"
          ],
          "name": "stdout"
        }
      ]
    },
    {
      "cell_type": "code",
      "metadata": {
        "id": "zTigrDLUzuOC",
        "outputId": "f4a51269-9d6c-42a2-d04a-82501bac87f4",
        "colab": {
          "base_uri": "https://localhost:8080/"
        }
      },
      "source": [
        "from sklearn.metrics import classification_report\n",
        "grid_prediction = grid.predict(X_test)\n",
        "print(classification_report(y_test, grid_prediction))"
      ],
      "execution_count": 58,
      "outputs": [
        {
          "output_type": "stream",
          "text": [
            "              precision    recall  f1-score   support\n",
            "\n",
            "           0       1.00      0.80      0.89        10\n",
            "           1       0.94      1.00      0.97        29\n",
            "\n",
            "    accuracy                           0.95        39\n",
            "   macro avg       0.97      0.90      0.93        39\n",
            "weighted avg       0.95      0.95      0.95        39\n",
            "\n"
          ],
          "name": "stdout"
        }
      ]
    }
  ]
}